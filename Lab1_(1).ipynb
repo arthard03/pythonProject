{
  "nbformat": 4,
  "nbformat_minor": 0,
  "metadata": {
    "colab": {
      "provenance": []
    },
    "kernelspec": {
      "name": "python3",
      "display_name": "Python 3"
    },
    "language_info": {
      "name": "python"
    }
  },
  "cells": [
    {
      "cell_type": "markdown",
      "source": [
        "1. Write a Python program that prompts the user for their name and then prints a personalized greeting message."
      ],
      "metadata": {
        "id": "wUqKh_OxyyRC"
      }
    },
    {
      "cell_type": "code",
      "execution_count": null,
      "metadata": {
        "colab": {
          "base_uri": "https://localhost:8080/"
        },
        "id": "1gf1tXXmkJRP",
        "outputId": "c20693be-845e-47bd-aac0-1e5ad96b79c0"
      },
      "outputs": [
        {
          "output_type": "stream",
          "name": "stdout",
          "text": [
            "Enter your name: piotr\n",
            "Hello, piotr!\n"
          ]
        }
      ],
      "source": [
        "# Prompt the user to enter their name\n",
        "name = input(\"Enter your name: \")\n",
        "\n",
        "# Print a personalized greeting message\n",
        "print(\"Hello,\", name + \"!\")"
      ]
    },
    {
      "cell_type": "markdown",
      "source": [
        "Exercise 1. <br />\n",
        "Ask 3 questions about the name, surname and age, and at the end create a sentence with this information."
      ],
      "metadata": {
        "id": "Af1ps5Po0yfO"
      }
    },
    {
      "cell_type": "code",
      "source": [
        "# Prompt the user to enter their name\n",
        "name = input(\"Enter your name: \")\n",
        "surname=input(\"Enter your surname: \")\n",
        "age= input(\"Enter your age: \")\n",
        "\n",
        "# Print a personalized greeting message\n",
        "print(\"Hello,\", name ,\" \" ,surname ,\" \", age + \"!\")"
      ],
      "metadata": {
        "id": "L6-JdTuBbi6N"
      },
      "execution_count": null,
      "outputs": []
    },
    {
      "cell_type": "markdown",
      "source": [
        "2. Write a Python program that converts temperature from Celsius to Fahrenheit."
      ],
      "metadata": {
        "id": "cvmWnstxzBZM"
      }
    },
    {
      "cell_type": "code",
      "source": [
        "celsius = float(input(\"Enter temperature in Celsius: \"))\n",
        "\n",
        "# Convert Celsius to Fahrenheit\n",
        "fahrenheit = (celsius * 9/5) + 32\n",
        "\n",
        "# Print the converted temperature\n",
        "print(\"Temperature in Fahrenheit:\", fahrenheit)"
      ],
      "metadata": {
        "colab": {
          "base_uri": "https://localhost:8080/"
        },
        "id": "Ar2avvtTy9U6",
        "outputId": "2eec67e8-f90a-4414-c4ba-1ca1195f4dee"
      },
      "execution_count": null,
      "outputs": [
        {
          "output_type": "stream",
          "name": "stdout",
          "text": [
            "Enter temperature in Celsius: 36\n",
            "Temperature in Fahrenheit: 96.8\n"
          ]
        }
      ]
    },
    {
      "cell_type": "markdown",
      "source": [],
      "metadata": {
        "id": "baoVb0Gl1YVg"
      }
    },
    {
      "cell_type": "markdown",
      "source": [
        "Exercise 2. <br />\n",
        "Reverse to change Fahrenheit to Celsius."
      ],
      "metadata": {
        "id": "Drjb9R-A1Y65"
      }
    },
    {
      "cell_type": "code",
      "source": [
        "farenheit = float(input(\"Enter temperature in Celsius: \"))\n",
        "\n",
        "# Convert Celsius to Fahrenheit\n",
        "celsius = (celsius -32) *5/9\n",
        "\n",
        "# Print the converted temperature\n",
        "print(\"Temperature in Celsius:\", celsius)"
      ],
      "metadata": {
        "id": "u88sNDx81wur"
      },
      "execution_count": null,
      "outputs": []
    },
    {
      "cell_type": "markdown",
      "source": [
        "3. Write a Python program that calculates the grade based on the student's score."
      ],
      "metadata": {
        "id": "s8oRVOdSzZTc"
      }
    },
    {
      "cell_type": "code",
      "source": [
        "# Define variable\n",
        "score = float(input(\"Enter your score: \"))\n",
        "\n",
        "# Determine the grade\n",
        "if score >= 90:\n",
        "    grade = \"A\"\n",
        "elif score >= 80:\n",
        "    grade = \"B\"\n",
        "elif score >= 70:\n",
        "    grade = \"C\"\n",
        "elif score >= 60:\n",
        "    grade = \"D\"\n",
        "else:\n",
        "    grade = \"F\"\n",
        "\n",
        "# Print the grade\n",
        "print(\"Your grade is:\", grade)"
      ],
      "metadata": {
        "colab": {
          "base_uri": "https://localhost:8080/"
        },
        "id": "O3o2BJ1Wzaph",
        "outputId": "4eedff19-31a3-486c-e358-98ed9fa70d1d"
      },
      "execution_count": null,
      "outputs": [
        {
          "output_type": "stream",
          "name": "stdout",
          "text": [
            "Enter your score: 96\n",
            "Your grade is: A\n"
          ]
        }
      ]
    },
    {
      "cell_type": "markdown",
      "source": [
        "Exercise 3. <br />\n",
        "Convert to the Polish grading system."
      ],
      "metadata": {
        "id": "n2WUkjpZ3tLG"
      }
    },
    {
      "cell_type": "code",
      "source": [
        "# Define variable\n",
        "score = float(input(\"Enter your score: \"))\n",
        "\n",
        "# Determine the grade\n",
        "if score >= 90:\n",
        "    grade = \"5\"\n",
        "elif score >= 80:\n",
        "    grade = \"4\"\n",
        "elif score >= 70:\n",
        "    grade = \"3+\"\n",
        "elif score >= 60:\n",
        "    grade = \"3\"\n",
        "else:\n",
        "    grade = \"2\"\n",
        "\n",
        "# Print the grade\n",
        "print(\"Your grade is:\", grade)"
      ],
      "metadata": {
        "id": "Ba5RCxxO3sfk"
      },
      "execution_count": null,
      "outputs": []
    },
    {
      "cell_type": "markdown",
      "source": [
        "4. Write a Python program that checks if a number is even or odd."
      ],
      "metadata": {
        "id": "pAgmiQGGzeOf"
      }
    },
    {
      "cell_type": "code",
      "source": [
        "# Define variable\n",
        "number = int(input(\"Enter a number: \"))\n",
        "\n",
        "# Check if the number is even or odd\n",
        "if number % 2 == 0:\n",
        "    result = \"Even\"\n",
        "else:\n",
        "    result = \"Odd\"\n",
        "\n",
        "# Print the result\n",
        "print(\"The number is:\", result)"
      ],
      "metadata": {
        "colab": {
          "base_uri": "https://localhost:8080/"
        },
        "id": "qT6u1T4WzjlN",
        "outputId": "7b966f93-310a-46f6-b98e-4ff1a7aadc7b"
      },
      "execution_count": null,
      "outputs": [
        {
          "output_type": "stream",
          "name": "stdout",
          "text": [
            "Enter a number: 65\n",
            "The number is: Odd\n"
          ]
        }
      ]
    },
    {
      "cell_type": "markdown",
      "source": [
        "Exercise 4. <br />\n",
        "Change the code so that there are two inputs and the first number it can be devidet."
      ],
      "metadata": {
        "id": "wbEXTLQ64TDW"
      }
    },
    {
      "cell_type": "code",
      "source": [
        "num1=int(input(\"enter number1 \"))\n",
        "num2= int(input(\"enter number2  \"))\n",
        "if (num2%num1==0):print(\"first number can divide num2\")\n",
        "else: print(\"it is not\")"
      ],
      "metadata": {
        "id": "UbB5Q2D54puN"
      },
      "execution_count": null,
      "outputs": []
    },
    {
      "cell_type": "markdown",
      "source": [
        "5. Variable types"
      ],
      "metadata": {
        "id": "ub6WUpw_61yT"
      }
    },
    {
      "cell_type": "code",
      "source": [
        "# Prompt the user to enter values of different types\n",
        "var_int = int(input(\"Enter an integer value: \"))\n",
        "var_float = float(input(\"Enter a float value: \"))\n",
        "var_str = input(\"Enter a string value: \")\n",
        "var_bool = input(\"Enter a boolean value (True or False): \").lower() == \"true\"\n",
        "\n",
        "# Determine the type of each variable\n",
        "type_int = type(var_int).__name__\n",
        "type_float = type(var_float).__name__\n",
        "type_str = type(var_str).__name__\n",
        "type_bool = type(var_bool).__name__\n",
        "\n",
        "# Print the type of each variable\n",
        "print(\"Type of var_int:\", type_int)\n",
        "print(\"Type of var_float:\", type_float)\n",
        "print(\"Type of var_str:\", type_str)\n",
        "print(\"Type of var_bool:\", type_bool)"
      ],
      "metadata": {
        "id": "nWIyQteq60NQ"
      },
      "execution_count": null,
      "outputs": []
    },
    {
      "cell_type": "markdown",
      "source": [
        "6. Write a Python program that determines the type of triangle based on the lengths of its sides."
      ],
      "metadata": {
        "id": "mNbPiSw9zqz9"
      }
    },
    {
      "cell_type": "code",
      "source": [
        "# Define variables\n",
        "side1 = float(input(\"Enter the length of side 1: \"))\n",
        "side2 = float(input(\"Enter the length of side 2: \"))\n",
        "side3 = float(input(\"Enter the length of side 3: \"))\n",
        "\n",
        "# Check the type of triangle\n",
        "if side1 == side2 == side3:\n",
        "    triangle_type = \"Equilateral\"\n",
        "elif side1 == side2 or side1 == side3 or side2 == side3:\n",
        "    triangle_type = \"Isosceles\"\n",
        "else:\n",
        "    triangle_type = \"Scalene\"\n",
        "\n",
        "# Print the type of triangle\n",
        "print(\"The triangle is:\", triangle_type)"
      ],
      "metadata": {
        "colab": {
          "base_uri": "https://localhost:8080/"
        },
        "id": "qWQb0JYdz7MC",
        "outputId": "0cd5b901-65d3-4b33-d75a-3ea207784d74"
      },
      "execution_count": null,
      "outputs": [
        {
          "output_type": "stream",
          "name": "stdout",
          "text": [
            "Enter the length of side 1: 2\n",
            "Enter the length of side 2: 3\n",
            "Enter the length of side 3: 4\n",
            "The triangle is: Scalene\n"
          ]
        }
      ]
    },
    {
      "cell_type": "markdown",
      "source": [
        "Exercise 6. <br />\n",
        "Add a check to see if a triangle can be drawn with the given sides."
      ],
      "metadata": {
        "id": "qmK-Sy0q4qYQ"
      }
    },
    {
      "cell_type": "code",
      "source": [
        "a= float(input(\"Enter the length of side 1 \"))\n",
        "b= float(input(\"Enter the length of side 2 \"))\n",
        "c= float(input(\"Enter the length of side 3 \"))\n",
        "if a+c>b and b+c>a and a+b>c:print(\"valid triangle\")\n",
        "else: print(\"inappropriate triangle\")"
      ],
      "metadata": {
        "id": "QVeabA3I4mWj"
      },
      "execution_count": null,
      "outputs": []
    },
    {
      "cell_type": "markdown",
      "source": [
        "7. Write a Python program that performs arithmetic operations on two numbers."
      ],
      "metadata": {
        "id": "e_-D4ErK0Ac6"
      }
    },
    {
      "cell_type": "code",
      "source": [
        "# Define variables\n",
        "num1 = float(input(\"Enter the first number: \"))\n",
        "num2 = float(input(\"Enter the second number: \"))\n",
        "operation = input(\"Enter the operation (+, -, *, /): \")\n",
        "\n",
        "# Perform the operation\n",
        "if operation == \"+\":\n",
        "    result = num1 + num2\n",
        "elif operation == \"-\":\n",
        "    result = num1 - num2\n",
        "elif operation == \"*\":\n",
        "    result = num1 * num2\n",
        "elif operation == \"/\":\n",
        "    result = num1 / num2\n",
        "else:\n",
        "    result = \"Invalid operation\"\n",
        "\n",
        "# Print the result\n",
        "print(\"Result:\", result)"
      ],
      "metadata": {
        "colab": {
          "base_uri": "https://localhost:8080/"
        },
        "id": "NorGpqQu0JuF",
        "outputId": "29d37b48-ea2a-439f-be38-78232b84c672"
      },
      "execution_count": null,
      "outputs": [
        {
          "output_type": "stream",
          "name": "stdout",
          "text": [
            "Enter the first number: 6\n",
            "Enter the second number: 8\n",
            "Enter the operation (+, -, *, /): -\n",
            "Result: -2.0\n"
          ]
        }
      ]
    },
    {
      "cell_type": "markdown",
      "source": [
        "Exercise 7. <br />\n",
        "Add a check to see if someone is trying to divide by zero, if so, give an appropriate message"
      ],
      "metadata": {
        "id": "7oqPwKMn5UNz"
      }
    },
    {
      "cell_type": "code",
      "source": [
        "num1=10\n",
        "num2 = int(input(\"enter number to divide 10 \"))\n",
        "if num2 ==0:print(\"you can not divide by zero \")\n",
        "else: result = num1/num2\n",
        "print(\"you can\", result)"
      ],
      "metadata": {
        "id": "tu9yF-qx5kQX"
      },
      "execution_count": null,
      "outputs": []
    },
    {
      "cell_type": "markdown",
      "source": [
        "Exercise 8. <br />\n",
        "Make a script out of all task and put it on githyb"
      ],
      "metadata": {
        "id": "f1FWjRt8w1rh"
      }
    },
    {
      "cell_type": "code",
      "source": [],
      "metadata": {
        "id": "Jh6eWcZQw3WJ"
      },
      "execution_count": null,
      "outputs": []
    }
  ]
}